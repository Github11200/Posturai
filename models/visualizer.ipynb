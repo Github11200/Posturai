{
 "cells": [
  {
   "cell_type": "code",
   "execution_count": 12,
   "id": "5e03ab65",
   "metadata": {},
   "outputs": [],
   "source": [
    "# Visualize the points from the dataset\n",
    "\n",
    "import cv2\n",
    "import numpy as np\n",
    "import mediapipe as mp\n",
    "from mediapipe.framework.formats import landmark_pb2\n",
    "import random\n",
    "import pandas as pd\n",
    "import torch\n",
    "\n",
    "mp_pose = mp.solutions.pose\n",
    "mp_drawing = mp.solutions.drawing_utils"
   ]
  },
  {
   "cell_type": "code",
   "execution_count": 13,
   "id": "192eb859",
   "metadata": {},
   "outputs": [],
   "source": [
    "data = pd.read_csv(\"data.csv\")"
   ]
  },
  {
   "cell_type": "code",
   "execution_count": 14,
   "id": "1e94376d",
   "metadata": {},
   "outputs": [],
   "source": [
    "def showLandmarksFromDataset(index):\n",
    "  blank_frame = np.zeros((256, 256, 3), dtype=np.uint8)\n",
    "\n",
    "  # List of landmark names in the order MediaPipe expects\n",
    "  landmark_names = [\n",
    "      'nose', 'left_eye_inner', 'left_eye', 'left_eye_outer', 'right_eye_inner', 'right_eye', 'right_eye_outer',\n",
    "      'left_ear', 'right_ear', 'mouth_left', 'mouth_right', 'left_shoulder', 'right_shoulder', 'left_elbow',\n",
    "      'right_elbow', 'left_wrist', 'right_wrist', 'left_pinky', 'right_pinky', 'left_index', 'right_index',\n",
    "      'left_thumb', 'right_thumb', 'left_hip', 'right_hip', 'left_knee', 'right_knee', 'left_ankle', 'right_ankle',\n",
    "      'left_heel', 'right_heel', 'left_foot_index', 'right_foot_index'\n",
    "  ]\n",
    "\n",
    "  landmarks = []\n",
    "  row = data.iloc[index]\n",
    "  for name in landmark_names:\n",
    "      x = row[f'{name}_x']\n",
    "      y = row[f'{name}_y']\n",
    "      z = row[f'{name}_z']\n",
    "\n",
    "      x = (x + 1.0) / 2.0\n",
    "      y = (y + 1.0) / 2.0\n",
    "      z = z\n",
    "\n",
    "      x = np.clip(x, 0.0, 1.0)\n",
    "      y = np.clip(y, 0.0, 1.0)\n",
    "      z = np.clip(z, -1.0, 1.0)\n",
    "\n",
    "      landmarks.append(landmark_pb2.NormalizedLandmark(x=x, y=y, z=z))\n",
    "\n",
    "  landmark_list = landmark_pb2.NormalizedLandmarkList(landmark=landmarks)\n",
    "\n",
    "  # Mapping from label to full posture name\n",
    "  label_to_name = {\n",
    "      \"TUP\": \"Upright trunk position\",\n",
    "      \"TLB\": \"Trunk leaning backward\",\n",
    "      \"TLF\": \"Trunk leaning forward\",\n",
    "      \"TLR\": \"Trunk leaning right\",\n",
    "      \"TLL\": \"Trunk leaning left\"\n",
    "  }\n",
    "\n",
    "  label = row['upperbody_label']\n",
    "  full_name = label_to_name.get(label, label)\n",
    "\n",
    "  mp_drawing.draw_landmarks(\n",
    "    image=blank_frame,\n",
    "    landmark_list=landmark_list,\n",
    "    connections=mp_pose.POSE_CONNECTIONS,  # Use the appropriate connections for your landmarks\n",
    "    landmark_drawing_spec=mp_drawing.DrawingSpec(color=(0,255,0), thickness=2, circle_radius=2),\n",
    "    connection_drawing_spec=mp_drawing.DrawingSpec(color=(255,0,0), thickness=2)\n",
    "  )\n",
    "\n",
    "  cv2.imshow('Landmarks', blank_frame)\n",
    "  cv2.waitKey(0)\n",
    "  cv2.destroyAllWindows()"
   ]
  },
  {
   "cell_type": "code",
   "execution_count": 15,
   "id": "9a607828",
   "metadata": {},
   "outputs": [],
   "source": [
    "# for i in range(0, 4000):\n",
    "#   showLandmarksFromDataset(i)"
   ]
  },
  {
   "cell_type": "code",
   "execution_count": 16,
   "id": "cfb66163",
   "metadata": {},
   "outputs": [],
   "source": [
    "import cv2\n",
    "import numpy as np\n",
    "import mediapipe as mp"
   ]
  },
  {
   "cell_type": "code",
   "execution_count": 17,
   "id": "61ab70c0",
   "metadata": {},
   "outputs": [],
   "source": [
    "def getLabel(fileName):\n",
    "  mp_pose = mp.solutions.pose\n",
    "  pose = mp_pose.Pose(min_detection_confidence=0.7,\n",
    "                        min_tracking_confidence=0.5)\n",
    "  mp_drawing = mp.solutions.drawing_utils\n",
    "\n",
    "  img = cv2.imread(fileName)\n",
    "  rgb_frame = cv2.cvtColor(img, cv2.COLOR_BGR2RGB)\n",
    "\n",
    "  results = pose.process(rgb_frame)\n",
    "\n",
    "  if results.pose_landmarks:\n",
    "    mp_drawing.draw_landmarks(img, results.pose_landmarks, mp_pose.POSE_CONNECTIONS)\n",
    "\n",
    "  cv2.imshow('MediaPipe Pose', img)\n",
    "  cv2.waitKey(0)  # Waits indefinitely until a key is pressed\n",
    "  pose.close()\n",
    "  cv2.destroyAllWindows()\n",
    "\n",
    "  X_test = [[]]\n",
    "  for i, landmark in enumerate(results.pose_landmarks.landmark):\n",
    "    X_test[0].append(landmark.x)\n",
    "    X_test[0].append(landmark.y)\n",
    "    X_test[0].append(landmark.z)\n",
    "    X_test[0].append(landmark.visibility)\n",
    "  X_test, len(X_test[0])\n",
    "\n",
    "  model = torch.load(\"model_0.pth\", weights_only=False)\n",
    "  model.eval()\n",
    "  X_test = torch.tensor(X_test, dtype=torch.float).to(device=\"cuda\")\n",
    "  with torch.inference_mode():\n",
    "    y_logits = model(X_test)\n",
    "  y_logits\n",
    "\n",
    "  y_preds_probs = torch.softmax(y_logits, dim=1)\n",
    "  return torch.argmax(y_preds_probs)"
   ]
  },
  {
   "cell_type": "code",
   "execution_count": 25,
   "id": "aeadc0f8",
   "metadata": {},
   "outputs": [
    {
     "data": {
      "text/plain": [
       "tensor(0, device='cuda:0')"
      ]
     },
     "execution_count": 25,
     "metadata": {},
     "output_type": "execute_result"
    }
   ],
   "source": [
    "getLabel(\"../data/test7.jpg\")"
   ]
  },
  {
   "cell_type": "code",
   "execution_count": null,
   "id": "d2aff95f",
   "metadata": {},
   "outputs": [],
   "source": [
    "for i in range(1, 21):\n",
    "  if getLabel(f\"../data/good/goodposture{i}.jpg\") != 4:\n",
    "    print(\"woah\")"
   ]
  },
  {
   "cell_type": "code",
   "execution_count": null,
   "id": "f09da88f",
   "metadata": {},
   "outputs": [
    {
     "ename": "NameError",
     "evalue": "name 'upper_landmarks' is not defined",
     "output_type": "error",
     "traceback": [
      "\u001b[31m---------------------------------------------------------------------------\u001b[39m",
      "\u001b[31mNameError\u001b[39m                                 Traceback (most recent call last)",
      "\u001b[36mCell\u001b[39m\u001b[36m \u001b[39m\u001b[32mIn[9]\u001b[39m\u001b[32m, line 2\u001b[39m\n\u001b[32m      1\u001b[39m X_test = [[]]\n\u001b[32m----> \u001b[39m\u001b[32m2\u001b[39m \u001b[38;5;28;01mfor\u001b[39;00m landmark \u001b[38;5;129;01min\u001b[39;00m \u001b[43mupper_landmarks\u001b[49m:\n\u001b[32m      3\u001b[39m   X_test[\u001b[32m0\u001b[39m].append(landmark.x)\n\u001b[32m      4\u001b[39m   X_test[\u001b[32m0\u001b[39m].append(landmark.y)\n",
      "\u001b[31mNameError\u001b[39m: name 'upper_landmarks' is not defined"
     ]
    }
   ],
   "source": [
    "X_test = [[]]\n",
    "for landmark in upper_landmarks:\n",
    "  X_test[0].append(landmark.x)\n",
    "  X_test[0].append(landmark.y)\n",
    "  X_test[0].append(landmark.z)\n",
    "X_test, len(X_test[0])"
   ]
  },
  {
   "cell_type": "code",
   "execution_count": null,
   "id": "8c2de45a",
   "metadata": {},
   "outputs": [
    {
     "data": {
      "text/plain": [
       "tensor([[ -1.9885,  -2.7045,  -4.0109, -19.2214,  30.3151]], device='cuda:0')"
      ]
     },
     "execution_count": 65,
     "metadata": {},
     "output_type": "execute_result"
    }
   ],
   "source": [
    "model = torch.load(\"model_0.pth\", weights_only=False)\n",
    "model.eval()\n",
    "X_test = torch.tensor(X_test, dtype=torch.float).to(device=\"cuda\")\n",
    "with torch.inference_mode():\n",
    "  y_logits = model(X_test)\n",
    "y_logits"
   ]
  },
  {
   "cell_type": "code",
   "execution_count": null,
   "id": "bb0e6768",
   "metadata": {},
   "outputs": [
    {
     "data": {
      "text/plain": [
       "tensor([[9.3485e-15, 4.5685e-15, 1.2371e-15, 3.0662e-22, 1.0000e+00]],\n",
       "       device='cuda:0')"
      ]
     },
     "execution_count": 66,
     "metadata": {},
     "output_type": "execute_result"
    }
   ],
   "source": [
    "y_preds_probs = torch.softmax(y_logits, dim=1)\n",
    "y_preds_probs"
   ]
  },
  {
   "cell_type": "code",
   "execution_count": null,
   "id": "b94fb370",
   "metadata": {},
   "outputs": [
    {
     "data": {
      "text/plain": [
       "tensor(4, device='cuda:0')"
      ]
     },
     "execution_count": 67,
     "metadata": {},
     "output_type": "execute_result"
    }
   ],
   "source": [
    "torch.argmax(y_preds_probs)"
   ]
  }
 ],
 "metadata": {
  "kernelspec": {
   "display_name": "hackathon",
   "language": "python",
   "name": "python3"
  },
  "language_info": {
   "codemirror_mode": {
    "name": "ipython",
    "version": 3
   },
   "file_extension": ".py",
   "mimetype": "text/x-python",
   "name": "python",
   "nbconvert_exporter": "python",
   "pygments_lexer": "ipython3",
   "version": "3.11.13"
  }
 },
 "nbformat": 4,
 "nbformat_minor": 5
}
