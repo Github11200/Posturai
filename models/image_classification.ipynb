{
 "cells": [
  {
   "cell_type": "code",
   "execution_count": 13,
   "id": "d90e849c",
   "metadata": {},
   "outputs": [],
   "source": [
    "import mediapipe as mp\n",
    "from mediapipe.tasks import python\n",
    "from mediapipe.tasks.python.components import processors\n",
    "from mediapipe.tasks.python import vision\n",
    "import cv2\n",
    "import math\n",
    "import numpy as np\n",
    "import torch"
   ]
  },
  {
   "cell_type": "code",
   "execution_count": 14,
   "id": "5e01e016",
   "metadata": {},
   "outputs": [],
   "source": [
    "BaseOptions = mp.tasks.BaseOptions\n",
    "ObjectDetector = mp.tasks.vision.ObjectDetector\n",
    "ObjectDetectorOptions = mp.tasks.vision.ObjectDetectorOptions\n",
    "VisionRunningMode = mp.tasks.vision.RunningMode"
   ]
  },
  {
   "cell_type": "code",
   "execution_count": 15,
   "id": "9b85be74",
   "metadata": {},
   "outputs": [],
   "source": [
    "result_classes = []\n",
    "bounding_boxes = []\n",
    "\n",
    "def print_result(result, output_image: mp.Image, timestamp_ms: int):\n",
    "    global result_classes, bounding_boxes\n",
    "    result_classes = []\n",
    "    bounding_boxes = []\n",
    "    for i, detection in enumerate(result.detections):\n",
    "      result_classes.append(detection.categories[0].category_name)\n",
    "      bounding_boxes.append(detection.bounding_box)"
   ]
  },
  {
   "cell_type": "code",
   "execution_count": null,
   "id": "479e0aed",
   "metadata": {},
   "outputs": [],
   "source": [
    "import os\n",
    "\n",
    "model_path = 'C:/Users/patel/Desktop/Jinay/Code/Projects/Hackathon-Project/app/detector.tflite'\n",
    "\n",
    "options = ObjectDetectorOptions(\n",
    "    base_options=BaseOptions(model_asset_path=model_path),\n",
    "    running_mode=VisionRunningMode.LIVE_STREAM,\n",
    "    max_results=5,\n",
    "    result_callback=print_result)\n",
    "\n",
    "objectDetector = ObjectDetector.create_from_options(options)"
   ]
  },
  {
   "cell_type": "code",
   "execution_count": 17,
   "id": "4b277bf7",
   "metadata": {},
   "outputs": [
    {
     "name": "stdout",
     "output_type": "stream",
     "text": [
      "Webcam opened successfully. Press 'q' to quit.\n",
      "Webcam session ended\n"
     ]
    }
   ],
   "source": [
    "import time\n",
    "\n",
    "# Check if webcam is available\n",
    "cap = cv2.VideoCapture(0)\n",
    "\n",
    "if not cap.isOpened():\n",
    "    print(\"Error: Could not open webcam\")\n",
    "\n",
    "print(\"Webcam opened successfully. Press 'q' to quit.\")\n",
    "    \n",
    "landmarks = []\n",
    "frame_count = 0\n",
    "max_frames = 1000  # Limit frames to prevent infinite loops\n",
    "\n",
    "while cap.isOpened() and frame_count < max_frames:\n",
    "  ret, frame = cap.read()\n",
    "  \n",
    "  start_points = [(0, 0), (frame.shape[1], 0)]\n",
    "  end_points = [(150, frame.shape[1]), (frame.shape[1] - 150, frame.shape[1])]\n",
    "  if not ret:\n",
    "      print(\"Failed to grab frame\")\n",
    "      break\n",
    "  frame_count += 1\n",
    "    \n",
    "  # Flip the frame horizontally for a mirrored view\n",
    "  frame = cv2.flip(frame, 1)\n",
    "  # Convert the BGR image to RGB\n",
    "  rgb_frame = cv2.cvtColor(frame, cv2.COLOR_BGR2RGB)\n",
    "\n",
    "  # mask of the sections we dont' need\n",
    "  mask = np.ones(frame.shape, dtype=np.uint8) * 255 \n",
    "  for i in range(len(start_points)):\n",
    "    cv2.rectangle(mask, start_points[i], end_points[i], (0, 0, 0), thickness=cv2.FILLED)\n",
    "  rgb_frame = cv2.bitwise_and(rgb_frame, mask)\n",
    "\n",
    "  mp_image = mp.Image(image_format=mp.ImageFormat.SRGB, data=rgb_frame)\n",
    "  timestamp_ms = int(time.time() * 1000)\n",
    "    \n",
    "  try:\n",
    "      objectDetector.detect_async(mp_image, timestamp_ms)\n",
    "  except Exception as e:\n",
    "      print(f\"Classification error: {e}\")\n",
    "  \n",
    "  for i in range(len(result_classes)):\n",
    "    x1, y1 = int(bounding_boxes[i].origin_x), int(bounding_boxes[i].origin_y)\n",
    "    x2, y2 = x1 + int(bounding_boxes[i].width), y1 + int(bounding_boxes[i].height)\n",
    "    cv2.rectangle(frame, (x1, y1), (x2, y2), (0, 255, 0), 2)\n",
    "\n",
    "    label = result_classes[i]\n",
    "    cv2.putText(frame, label, (x1, y1 - 10),\n",
    "                    cv2.FONT_HERSHEY_SIMPLEX, 0.9, (36,255,12), 2)\n",
    "\n",
    "\n",
    "  for i in range(len(start_points)):\n",
    "    cv2.rectangle(frame, start_points[i], end_points[i], (0, 0, 0), thickness=cv2.FILLED)\n",
    "\n",
    "  # Display the frame\n",
    "  cv2.imshow('MediaPipe Image Classification', frame)\n",
    "\n",
    "  # Exit if 'q' is pressed or window is closed\n",
    "  key = cv2.waitKey(1) & 0xFF\n",
    "  if key == ord('q'):\n",
    "    break\n",
    "        \n",
    "  # Check if window was closed\n",
    "  if cv2.getWindowProperty('MediaPipe Image Classification', cv2.WND_PROP_VISIBLE) < 1:\n",
    "    break \n",
    "  # Exit if 'q' is pressed\n",
    "  if cv2.waitKey(1) & 0xFF == ord('q'):\n",
    "      break\n",
    "  for result_class in result_classes:\n",
    "    if result_class == \"bottle\":\n",
    "      print(\"DETECTED BOTTLE :):)\")\n",
    "          \n",
    "print(\"Webcam session ended\")\n",
    "\n",
    "# Release resources\n",
    "cap.release()\n",
    "cv2.destroyAllWindows()"
   ]
  },
  {
   "cell_type": "code",
   "execution_count": null,
   "id": "a4700381",
   "metadata": {},
   "outputs": [],
   "source": []
  }
 ],
 "metadata": {
  "kernelspec": {
   "display_name": "hackathon",
   "language": "python",
   "name": "python3"
  },
  "language_info": {
   "codemirror_mode": {
    "name": "ipython",
    "version": 3
   },
   "file_extension": ".py",
   "mimetype": "text/x-python",
   "name": "python",
   "nbconvert_exporter": "python",
   "pygments_lexer": "ipython3",
   "version": "3.11.13"
  }
 },
 "nbformat": 4,
 "nbformat_minor": 5
}
