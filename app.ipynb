{
 "cells": [
  {
   "cell_type": "code",
   "execution_count": 1,
   "id": "5c724640",
   "metadata": {},
   "outputs": [],
   "source": [
    "import cv2\n",
    "import numpy as np\n",
    "import mediapipe as mp\n",
    "import torch"
   ]
  },
  {
   "cell_type": "code",
   "execution_count": 2,
   "id": "299529b4",
   "metadata": {},
   "outputs": [],
   "source": [
    "def getLabel(results):\n",
    "    X_test = [[]]\n",
    "    for i, landmark in enumerate(results.pose_landmarks.landmark):\n",
    "        X_test[0].append(landmark.x)\n",
    "        X_test[0].append(landmark.y)\n",
    "        X_test[0].append(landmark.z)\n",
    "        X_test[0].append(landmark.visibility)\n",
    "    X_test, len(X_test[0])\n",
    "\n",
    "    model = torch.load(\"models/model_0.pth\", weights_only=False)\n",
    "    model.eval()\n",
    "    X_test = torch.tensor(X_test, dtype=torch.float).to(device=\"cuda\")\n",
    "    with torch.inference_mode():\n",
    "        y_logits = model(X_test)\n",
    "    y_logits\n",
    "\n",
    "    y_preds_probs = torch.softmax(y_logits, dim=1)\n",
    "    return torch.argmax(y_preds_probs)"
   ]
  },
  {
   "cell_type": "code",
   "execution_count": null,
   "id": "daa740fb",
   "metadata": {},
   "outputs": [],
   "source": [
    "# Initialize MediaPipe Pose\n",
    "mp_pose = mp.solutions.pose\n",
    "pose = mp_pose.Pose(min_detection_confidence=0.7,\n",
    "                    min_tracking_confidence=0.5)\n",
    "mp_drawing = mp.solutions.drawing_utils"
   ]
  },
  {
   "cell_type": "code",
   "execution_count": null,
   "id": "f9aa1315",
   "metadata": {},
   "outputs": [],
   "source": [
    "# Open webcam\n",
    "cap = cv2.VideoCapture(0)\n",
    "\n",
    "landmarks = []\n",
    "while cap.isOpened():\n",
    "    ret, frame = cap.read()\n",
    "    if not ret:\n",
    "        break\n",
    "\n",
    "    # Flip the frame horizontally for a mirrored view\n",
    "    frame = cv2.flip(frame, 1)\n",
    "\n",
    "    # Convert the BGR image to RGB\n",
    "    rgb_frame = cv2.cvtColor(frame, cv2.COLOR_BGR2RGB)\n",
    "\n",
    "    # Process the frame with MediaPipe Hands\n",
    "    results = pose.process(rgb_frame)\n",
    "\n",
    "    label = getLabel(results)\n",
    "    color = mp.solutions.drawing_utils.DrawingSpec(color=(255, 0, 0)) if label == 0 else mp.solutions.drawing_utils.DrawingSpec(color=(0, 255, 0))\n",
    "\n",
    "    # Draw hand landmarks if detected\n",
    "    if results.pose_landmarks:\n",
    "        mp_drawing.draw_landmarks(\n",
    "            frame, results.pose_landmarks, mp_pose.POSE_CONNECTIONS, landmark_drawing_spec=color)\n",
    "\n",
    "    # Display the frame\n",
    "    cv2.imshow('MediaPipe Hand Tracking', frame)\n",
    "\n",
    "    # Exit if 'q' is pressed\n",
    "    if cv2.waitKey(1) & 0xFF == ord('q'):\n",
    "        break\n",
    "\n",
    "# Release resources\n",
    "pose.close()\n",
    "cap.release()\n",
    "cv2.destroyAllWindows()"
   ]
  }
 ],
 "metadata": {
  "kernelspec": {
   "display_name": "torch",
   "language": "python",
   "name": "python3"
  },
  "language_info": {
   "codemirror_mode": {
    "name": "ipython",
    "version": 3
   },
   "file_extension": ".py",
   "mimetype": "text/x-python",
   "name": "python",
   "nbconvert_exporter": "python",
   "pygments_lexer": "ipython3",
   "version": "3.12.11"
  }
 },
 "nbformat": 4,
 "nbformat_minor": 5
}
